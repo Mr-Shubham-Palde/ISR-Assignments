{
 "cells": [
  {
   "cell_type": "markdown",
   "id": "vWQS6QNg7jWL",
   "metadata": {
    "id": "vWQS6QNg7jWL"
   },
   "source": [
    "### Assignment 7: Build the web crawler to pull product information and links from an e-commerce website."
   ]
  },
  {
   "cell_type": "code",
   "execution_count": 1,
   "id": "bb4cd286-03db-466e-90cd-cf7b81c34a28",
   "metadata": {
    "id": "bb4cd286-03db-466e-90cd-cf7b81c34a28"
   },
   "outputs": [],
   "source": [
    "import requests\n",
    "import bs4"
   ]
  },
  {
   "cell_type": "code",
   "execution_count": 2,
   "id": "9cf44e15-1a80-4d15-ae3e-5f9965f69d91",
   "metadata": {
    "id": "9cf44e15-1a80-4d15-ae3e-5f9965f69d91"
   },
   "outputs": [],
   "source": [
    "url = 'https://www.flipkart.com/samsung-galaxy-s25-5g-icyblue-256-gb/p/itm4ee58b3f8c5c7?pid=MOBH92AD6YMSXKGK&lid=LSTMOBH92AD6YMSXKGKUWTV6T&marketplace=FLIPKART&q=samsung+s25&store=tyy%2F4io&srno=s_1_3&otracker=search&otracker1=search&fm=organic&iid=aee98606-2c48-4de6-835f-98645d0e3c1a.MOBH92AD6YMSXKGK.SEARCH&ppt=hp&ppn=homepage&ssid=lj73z8s0800000001745994948275&qH=6a9f45229db62ab7'"
   ]
  },
  {
   "cell_type": "code",
   "execution_count": 3,
   "id": "7063303a-e9f9-4889-8415-1f56d44914b8",
   "metadata": {
    "id": "7063303a-e9f9-4889-8415-1f56d44914b8"
   },
   "outputs": [],
   "source": [
    "headers = {\n",
    "    'User-Agent':'Mozilla/5.0 (Windows NT 10.0; Win64; x64) AppleWebKit/537.36 (KHTML, like Gecko) Chrome/135.0.0.0 Safari/537.36'\n",
    "}"
   ]
  },
  {
   "cell_type": "code",
   "execution_count": 4,
   "id": "8925b7ff-4f3f-4ca2-b460-c2baa587bd26",
   "metadata": {
    "id": "8925b7ff-4f3f-4ca2-b460-c2baa587bd26"
   },
   "outputs": [],
   "source": [
    "request1 = requests.get(url, headers=headers)"
   ]
  },
  {
   "cell_type": "code",
   "execution_count": null,
   "id": "f0157c51-ef9f-4b76-a113-e6539f79f9b7",
   "metadata": {
    "id": "f0157c51-ef9f-4b76-a113-e6539f79f9b7"
   },
   "outputs": [],
   "source": [
    "request1.content"
   ]
  },
  {
   "cell_type": "code",
   "execution_count": 6,
   "id": "bc544dad-35f3-4932-ab4e-db6db08305ab",
   "metadata": {
    "id": "bc544dad-35f3-4932-ab4e-db6db08305ab"
   },
   "outputs": [],
   "source": [
    "soup = bs4.BeautifulSoup(request1.text)"
   ]
  },
  {
   "cell_type": "code",
   "execution_count": null,
   "id": "870b41f0-c8dd-4ecf-b48f-8f6984ed2cf2",
   "metadata": {
    "id": "870b41f0-c8dd-4ecf-b48f-8f6984ed2cf2",
    "scrolled": true
   },
   "outputs": [],
   "source": [
    "soup.prettify()"
   ]
  },
  {
   "cell_type": "code",
   "execution_count": 8,
   "id": "f09876b6-6344-4d4b-91cd-d25127177b62",
   "metadata": {
    "colab": {
     "base_uri": "https://localhost:8080/"
    },
    "id": "f09876b6-6344-4d4b-91cd-d25127177b62",
    "outputId": "2970846e-faeb-44bd-b231-5bfac245ebfd"
   },
   "outputs": [
    {
     "name": "stdout",
     "output_type": "stream",
     "text": [
      "Amazing Camera , performance and software optimisation. Full Power Packed Smartphone.READ MORE\n",
      "\n",
      "\n",
      "Just loving it. the mobile in hand feels very nice. very good user interface.Battery and Camera not upto the mark. Performance is Excellent..READ MORE\n",
      "\n",
      "\n",
      "Beyond Expectation. Top notch performance. No heating issue. Battery till now 👍.READ MORE\n",
      "\n",
      "\n",
      "Snapdragon 8 elite with UFS 4 storage is ultra fast. 75mb application takes below 1 sec for installation on this device. One UI7 feels butter smooth on this device. No such heating issues. Battery lasts 1.2 day with normal usage. Happy with the purchase.READ MORE\n",
      "\n",
      "\n",
      "Samsung Galaxy S25 is Powerful Phone 📱 I'm Very Happy 😊 Camera is so Better.Proformance is great 👍 .READ MORE\n",
      "\n",
      "\n",
      "A compact Phone with beast performance, great camera and a decent battery .. over-all a good choice ..READ MORE\n",
      "\n",
      "\n",
      "Every aspect full checked ✔️.  Better than any iphones.READ MORE\n",
      "\n",
      "\n",
      "S25 is much better than I phone 16 with respect  to camera clarity and performanceREAD MORE\n",
      "\n",
      "\n",
      "Here's a short review:_My Samsung Galaxy S25 Experience: 5/5 Stars!_I'm loving S25! The performance is lightning-fast, camera is amazing (especially in low light), and battery life is impressive. The display is stunning. Highly recommend for heavy users, gamers, and photography enthusiasts!READ MORE\n",
      "\n",
      "\n",
      "Everything is Great just don't expect Extraordinary Battery Life...Battery Life is good,You'll last a day in a charge.Camera is goodPerformance is top-notchREAD MORE\n",
      "\n",
      "\n"
     ]
    }
   ],
   "source": [
    "reviews = soup.findAll('div', {'class':'ZmyHeo'});\n",
    "for review in reviews:\n",
    "    print(review.get_text() + '\\n\\n')"
   ]
  },
  {
   "cell_type": "code",
   "execution_count": 9,
   "id": "36d24c00-1de2-4609-a4f2-4324d8f791d1",
   "metadata": {
    "colab": {
     "base_uri": "https://localhost:8080/"
    },
    "id": "36d24c00-1de2-4609-a4f2-4324d8f791d1",
    "outputId": "5eb712db-534e-43bf-b7c5-b2679e6ba88f"
   },
   "outputs": [
    {
     "name": "stdout",
     "output_type": "stream",
     "text": [
      "4.6\n"
     ]
    }
   ],
   "source": [
    "avg_rating = soup.find('div', {'class': 'ipqd2A'}).get_text();\n",
    "print(avg_rating)"
   ]
  },
  {
   "cell_type": "code",
   "execution_count": 10,
   "id": "9fd1211b-8a19-4e50-b057-77359bea6984",
   "metadata": {
    "colab": {
     "base_uri": "https://localhost:8080/"
    },
    "id": "9fd1211b-8a19-4e50-b057-77359bea6984",
    "outputId": "843d7b7a-d874-4865-87ff-51a3706fdb29"
   },
   "outputs": [
    {
     "name": "stdout",
     "output_type": "stream",
     "text": [
      "5\n",
      "\n",
      "\n",
      "5\n",
      "\n",
      "\n",
      "5\n",
      "\n",
      "\n",
      "5\n",
      "\n",
      "\n",
      "5\n",
      "\n",
      "\n",
      "5\n",
      "\n",
      "\n",
      "5\n",
      "\n",
      "\n",
      "5\n",
      "\n",
      "\n",
      "5\n",
      "\n",
      "\n",
      "5\n",
      "\n",
      "\n"
     ]
    }
   ],
   "source": [
    "individual_ratings = soup.findAll('div', {'class':'XQDdHH Ga3i8K'});\n",
    "for i_rating in individual_ratings:\n",
    "    print(i_rating.get_text() + '\\n\\n')"
   ]
  },
  {
   "cell_type": "code",
   "execution_count": 11,
   "id": "3a368fa6-344e-45c2-83e4-df0d583e5220",
   "metadata": {
    "colab": {
     "base_uri": "https://localhost:8080/"
    },
    "id": "3a368fa6-344e-45c2-83e4-df0d583e5220",
    "outputId": "926e9e44-80d7-4af6-f344-a278295ea071"
   },
   "outputs": [
    {
     "name": "stdout",
     "output_type": "stream",
     "text": [
      "frontech ecam\n",
      "\n",
      "\n",
      "Sai Krishna Kumar\n",
      "\n",
      "\n",
      "Haraprasad Mahapatra\n",
      "\n",
      "\n",
      "Satyajit Mohanty\n",
      "\n",
      "\n",
      "Flipkart Customer\n",
      "\n",
      "\n",
      "Samir Pattnaik\n",
      "\n",
      "\n",
      "N Patel\n",
      "\n",
      "\n",
      "Naveen Vatpally\n",
      "\n",
      "\n",
      "Aditya Mule\n",
      "\n",
      "\n",
      "Hemant Sinduriya\n",
      "\n",
      "\n"
     ]
    }
   ],
   "source": [
    "cust_names = soup.findAll('p', {'class':'_2NsDsF AwS1CA'});\n",
    "for c_name in cust_names:\n",
    "    print(c_name.get_text() + '\\n\\n')"
   ]
  },
  {
   "cell_type": "code",
   "execution_count": 12,
   "id": "01251046-c81f-42e1-a8ba-3028b32bb898",
   "metadata": {
    "colab": {
     "base_uri": "https://localhost:8080/"
    },
    "id": "01251046-c81f-42e1-a8ba-3028b32bb898",
    "outputId": "c5fc81df-df17-4075-e6e4-6fce2674ece0"
   },
   "outputs": [
    {
     "name": "stdout",
     "output_type": "stream",
     "text": [
      "Price: Not Available\n"
     ]
    }
   ],
   "source": [
    "price = soup.find('div', {'class':'hl05eU'}).get_text();\n",
    "print(price);"
   ]
  }
 ],
 "metadata": {
  "colab": {
   "provenance": []
  },
  "kernelspec": {
   "display_name": "Python 3 (ipykernel)",
   "language": "python",
   "name": "python3"
  },
  "language_info": {
   "codemirror_mode": {
    "name": "ipython",
    "version": 3
   },
   "file_extension": ".py",
   "mimetype": "text/x-python",
   "name": "python",
   "nbconvert_exporter": "python",
   "pygments_lexer": "ipython3",
   "version": "3.13.1"
  }
 },
 "nbformat": 4,
 "nbformat_minor": 5
}
